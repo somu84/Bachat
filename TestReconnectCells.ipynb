{
 "cells": [
  {
   "cell_type": "code",
   "execution_count": null,
   "metadata": {},
   "outputs": [],
   "source": [
    "# SUPPORTED DTYPES\n",
    "import time\n",
    "\n",
    "for i in range(100):\n",
    "    print(f\"Hi: {i}\")\n",
    "    time.sleep(2)"
   ]
  },
  {
   "cell_type": "code",
   "execution_count": null,
   "metadata": {},
   "outputs": [],
   "source": [
    "# UNSUPPORTED DTYPES\n",
    "import time\n",
    "\n",
    "for i in range(10):\n",
    "    print(f\"Hi: {i}\")\n",
    "    time.sleep(2)"
   ]
  }
 ],
 "metadata": {
  "kernelspec": {
   "display_name": "Python 3",
   "language": "python",
   "name": "python3"
  },
  "language_info": {
   "codemirror_mode": {
    "name": "ipython",
    "version": 3
   },
   "file_extension": ".py",
   "mimetype": "text/x-python",
   "name": "python",
   "nbconvert_exporter": "python",
   "pygments_lexer": "ipython3",
   "version": "3.10.10"
  },
  "orig_nbformat": 4,
  "vscode": {
   "interpreter": {
    "hash": "2f0db8ddf84edbdbf67f0fa4899299a794a39ed5ba5dd3ea9bae52b3a8f1d01b"
   }
  }
 },
 "nbformat": 4,
 "nbformat_minor": 2
}
